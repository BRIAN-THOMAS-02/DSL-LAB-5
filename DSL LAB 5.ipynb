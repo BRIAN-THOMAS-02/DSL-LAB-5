{
 "cells": [
  {
   "cell_type": "markdown",
   "id": "daa74dc0",
   "metadata": {},
   "source": [
    "<div class=\"alert alert-success\">\n",
    "\n",
    "# <center align> DSL LAB 5\n",
    "\n",
    "</div>"
   ]
  },
  {
   "cell_type": "markdown",
   "id": "be5a3d9c",
   "metadata": {},
   "source": [
    "<div>\n",
    "\n",
    "## Write a python program to store the Percentages of First Year (FE) Students in an array. Write a function for sorting the array containing floating point numbers in ascending order using: <br><br>\n",
    "### <b >a) Selection Sort \n",
    "### b) Bubble sort \n",
    "### &\n",
    "### Display top five scores. <b> <br>\n",
    "\n",
    "</div>"
   ]
  },
  {
   "cell_type": "markdown",
   "id": "c1f0ee53",
   "metadata": {},
   "source": [
    "***"
   ]
  },
  {
   "cell_type": "markdown",
   "id": "added9aa",
   "metadata": {},
   "source": [
    "<div class=\"alert alert-warning\">\n",
    "\n",
    "# <center align> Bubble Sort\n",
    "\n",
    "</div>"
   ]
  },
  {
   "cell_type": "markdown",
   "id": "a73e66ff",
   "metadata": {},
   "source": [
    "<i> Bubble Sort is the simplest sorting algorithm that works by </i> <b> repeatedly swapping the adjacent elements if they are in wrong order. <b>"
   ]
  },
  {
   "cell_type": "markdown",
   "id": "d577e946",
   "metadata": {},
   "source": [
    "<div>\n",
    "\n",
    "## <center align >Output with Explanation\n",
    "\n",
    "</div>"
   ]
  },
  {
   "cell_type": "code",
   "execution_count": 84,
   "id": "7a0560a3",
   "metadata": {},
   "outputs": [
    {
     "name": "stdout",
     "output_type": "stream",
     "text": [
      "FE Percentages are : [64.322, 34.561, 25.452, 12.235, 22.587, 11.154, 90.599]\n",
      " \n",
      "n = 7 , scores are present\n",
      "\n",
      "'i' is the iterator that helps us for the traversal in the array using variable 'j'\n",
      "\n",
      "'j' is the variable that loops through all the numbers\n",
      " \n",
      "i  |  j  |  Number > Compared to |  Boolean  |  Interchange the Numbers\n",
      "0  |  0  |  64.322 >    34.561   |   True    |  [64.322, 34.561, 25.452, 12.235, 22.587, 11.154, 90.599]\n",
      "0  |  1  |  64.322 >    25.452   |   True    |  [34.561, 64.322, 25.452, 12.235, 22.587, 11.154, 90.599]\n",
      "0  |  2  |  64.322 >    12.235   |   True    |  [34.561, 25.452, 64.322, 12.235, 22.587, 11.154, 90.599]\n",
      "0  |  3  |  64.322 >    22.587   |   True    |  [34.561, 25.452, 12.235, 64.322, 22.587, 11.154, 90.599]\n",
      "0  |  4  |  64.322 >    11.154   |   True    |  [34.561, 25.452, 12.235, 22.587, 64.322, 11.154, 90.599]\n",
      "0  |  5  |  64.322 >    90.599   |   False    |  [34.561, 25.452, 12.235, 22.587, 11.154, 64.322, 90.599]\n",
      " \n",
      "i  |  j  |  Number > Compared to |  Boolean  |  Interchange the Numbers\n",
      "1  |  0  |  34.561 >    25.452   |   True    |  [34.561, 25.452, 12.235, 22.587, 11.154, 64.322, 90.599]\n",
      "1  |  1  |  34.561 >    12.235   |   True    |  [25.452, 34.561, 12.235, 22.587, 11.154, 64.322, 90.599]\n",
      "1  |  2  |  34.561 >    22.587   |   True    |  [25.452, 12.235, 34.561, 22.587, 11.154, 64.322, 90.599]\n",
      "1  |  3  |  34.561 >    11.154   |   True    |  [25.452, 12.235, 22.587, 34.561, 11.154, 64.322, 90.599]\n",
      "1  |  4  |  34.561 >    64.322   |   False    |  [25.452, 12.235, 22.587, 11.154, 34.561, 64.322, 90.599]\n",
      " \n",
      "i  |  j  |  Number > Compared to |  Boolean  |  Interchange the Numbers\n",
      "2  |  0  |  25.452 >    12.235   |   True    |  [25.452, 12.235, 22.587, 11.154, 34.561, 64.322, 90.599]\n",
      "2  |  1  |  25.452 >    22.587   |   True    |  [12.235, 25.452, 22.587, 11.154, 34.561, 64.322, 90.599]\n",
      "2  |  2  |  25.452 >    11.154   |   True    |  [12.235, 22.587, 25.452, 11.154, 34.561, 64.322, 90.599]\n",
      "2  |  3  |  25.452 >    34.561   |   False    |  [12.235, 22.587, 11.154, 25.452, 34.561, 64.322, 90.599]\n",
      " \n",
      "i  |  j  |  Number > Compared to |  Boolean  |  Interchange the Numbers\n",
      "3  |  0  |  12.235 >    22.587   |   False    |  [12.235, 22.587, 11.154, 25.452, 34.561, 64.322, 90.599]\n",
      "3  |  1  |  22.587 >    11.154   |   True    |  [12.235, 22.587, 11.154, 25.452, 34.561, 64.322, 90.599]\n",
      "3  |  2  |  22.587 >    25.452   |   False    |  [12.235, 11.154, 22.587, 25.452, 34.561, 64.322, 90.599]\n",
      " \n",
      "i  |  j  |  Number > Compared to |  Boolean  |  Interchange the Numbers\n",
      "4  |  0  |  12.235 >    11.154   |   True    |  [12.235, 11.154, 22.587, 25.452, 34.561, 64.322, 90.599]\n",
      "4  |  1  |  12.235 >    22.587   |   False    |  [11.154, 12.235, 22.587, 25.452, 34.561, 64.322, 90.599]\n",
      " \n",
      "i  |  j  |  Number > Compared to |  Boolean  |  Interchange the Numbers\n",
      "5  |  0  |  11.154 >    12.235   |   False    |  [11.154, 12.235, 22.587, 25.452, 34.561, 64.322, 90.599]\n",
      "\n",
      "\n",
      "Using Bubble Sort Algorithm\n",
      "\n",
      "Sorted array is    : [11.154, 12.235, 22.587, 25.452, 34.561, 64.322, 90.599]\n",
      " \n"
     ]
    }
   ],
   "source": [
    "def bubbleSort(percentages):\n",
    "    n = len(percentages)\n",
    "    print(\"n =\", n, \", scores are present\")\n",
    "    \n",
    "    print(\"\\n'i' is the iterator that helps us for the traversal in the array using variable 'j'\")\n",
    "    print(\"\\n'j' is the variable that loops through all the numbers\")\n",
    "    for i in range(n - 1):\n",
    "        print(\" \")\n",
    "        print(\"i\", \" | \", \"j\", \" | \", \"Number\", \">\", \"Compared to\",\"| \", \"Boolean\", \" | \", \"Interchange the Numbers\")\n",
    "        \n",
    "        for j in range(0, n - i - 1):\n",
    "            print(i, \" | \", j, \" | \", percentages[j], \">   \", percentages[j+1], \"  |  \", (percentages[j]>percentages[j+1]), \"   | \", percentages)\n",
    "\n",
    "            if percentages[j] > percentages[j + 1]:\n",
    "                percentages[j], percentages[j + 1] = percentages[j + 1], percentages[j]\n",
    "\n",
    "\n",
    "if __name__ == \"__main__\":\n",
    "\n",
    "    percentages = [64.322, 34.561, 25.452, 12.235, 22.587, 11.154, 90.599]\n",
    "    print(\"FE Percentages are :\", percentages)\n",
    "\n",
    "    print(\" \")\n",
    "    bubbleSort(percentages)\n",
    "    print(\"\\n\\nUsing Bubble Sort Algorithm\\n\")\n",
    "    print(\"Sorted array is    :\", percentages)\n",
    "    print(\" \")"
   ]
  },
  {
   "cell_type": "markdown",
   "id": "42bf5898",
   "metadata": {},
   "source": [
    "***"
   ]
  },
  {
   "cell_type": "markdown",
   "id": "86c5611f",
   "metadata": {},
   "source": [
    "<div>\n",
    "\n",
    "## <center align> Bubble Sort with Simple Output\n",
    "\n",
    "</div>"
   ]
  },
  {
   "cell_type": "code",
   "execution_count": 77,
   "id": "99b1d7b3",
   "metadata": {
    "scrolled": true
   },
   "outputs": [
    {
     "name": "stdout",
     "output_type": "stream",
     "text": [
      "FE Percentages are : [64.322, 34.56, 25.452, 12.235948, 22.587, 11.154, 90.599]\n",
      " \n",
      "\n",
      "Using Bubble Sort Algorithm\n",
      "\n",
      "Sorted array is    : [11.154, 12.235948, 22.587, 25.452, 34.56, 64.322, 90.599]\n",
      " \n"
     ]
    }
   ],
   "source": [
    "def bubbleSort(percentages):\n",
    "    n = len(percentages)\n",
    "    for i in range(n - 1):\n",
    "        \n",
    "        for j in range(0, n - i - 1):\n",
    "            \n",
    "            if percentages[j] > percentages[j + 1]:\n",
    "                percentages[j], percentages[j + 1] = percentages[j + 1], percentages[j]\n",
    "\n",
    "\n",
    "if __name__ == \"__main__\":\n",
    "\n",
    "    percentages = [64.322, 34.56, 25.452, 12.235948, 22.587, 11.154, 90.599]\n",
    "    print(\"FE Percentages are :\", percentages)\n",
    "\n",
    "    print(\" \")\n",
    "    bubbleSort(percentages)\n",
    "    print(\"\\nUsing Bubble Sort Algorithm\\n\")\n",
    "    print(\"Sorted array is    :\", percentages)\n",
    "    print(\" \")"
   ]
  },
  {
   "cell_type": "markdown",
   "id": "becd4356",
   "metadata": {},
   "source": [
    "***"
   ]
  },
  {
   "cell_type": "markdown",
   "id": "49d01b4a",
   "metadata": {},
   "source": [
    "***"
   ]
  },
  {
   "cell_type": "markdown",
   "id": "e9fd067c",
   "metadata": {},
   "source": [
    "<div class=\"alert alert-warning\">\n",
    "\n",
    "# <center align> Selection Sort\n",
    "\n",
    "</div>"
   ]
  },
  {
   "cell_type": "markdown",
   "id": "dc750b84",
   "metadata": {},
   "source": [
    "<div>\n",
    "\n",
    "The selection sort algorithm sorts an array by repeatedly finding the minimum element (considering ascending order) from unsorted part and putting it at the beginning. The algorithm maintains two subarrays in a given array.\n",
    "\n",
    "    \n",
    "<b> Basically what it does is that it traverses through the whole array and finds the smallest element and swaps that smallest element with the 1st poistion in the array (from left) and hence goes on...! <b>\n",
    "    \n",
    "</div>"
   ]
  },
  {
   "cell_type": "markdown",
   "id": "1ecf506a",
   "metadata": {},
   "source": [
    "<div>\n",
    "\n",
    "## <center align >Output with Explanation\n",
    "\n",
    "</div>"
   ]
  },
  {
   "cell_type": "code",
   "execution_count": 115,
   "id": "481ff02b",
   "metadata": {},
   "outputs": [
    {
     "name": "stdout",
     "output_type": "stream",
     "text": [
      "FE Percentages are : [64.322, 34.561, 25.452, 12.235, 22.587, 11.154, 90.599]\n",
      " \n",
      "\n",
      "'i' is the iterator using which we are setting the Minimum Index\n",
      "\n",
      "\n",
      "'j' is the variable that loops through all the numbers in the array \n",
      "\n",
      "\n",
      "i | j | Number > Compared to | Boolean | min_idx | Interchange the Numbers\n",
      "0 | 1 | 64.322 >    34.561   | True    |  64.322 |  [64.322, 34.561, 25.452, 12.235, 22.587, 11.154, 90.599]\n",
      "0 | 2 | 34.561 >    25.452   | True    |  34.561 |  [64.322, 34.561, 25.452, 12.235, 22.587, 11.154, 90.599]\n",
      "0 | 3 | 25.452 >    12.235   | True    |  25.452 |  [64.322, 34.561, 25.452, 12.235, 22.587, 11.154, 90.599]\n",
      "0 | 4 | 12.235 >    22.587   | False    |  12.235 |  [64.322, 34.561, 25.452, 12.235, 22.587, 11.154, 90.599]\n",
      "0 | 5 | 12.235 >    11.154   | True    |  12.235 |  [64.322, 34.561, 25.452, 12.235, 22.587, 11.154, 90.599]\n",
      "0 | 6 | 11.154 >    90.599   | False    |  11.154 |  [64.322, 34.561, 25.452, 12.235, 22.587, 11.154, 90.599]\n",
      "\n",
      "i | j | Number > Compared to | Boolean | min_idx | Interchange the Numbers\n",
      "1 | 2 | 34.561 >    25.452   | True    |  34.561 |  [11.154, 34.561, 25.452, 12.235, 22.587, 64.322, 90.599]\n",
      "1 | 3 | 25.452 >    12.235   | True    |  25.452 |  [11.154, 34.561, 25.452, 12.235, 22.587, 64.322, 90.599]\n",
      "1 | 4 | 12.235 >    22.587   | False    |  12.235 |  [11.154, 34.561, 25.452, 12.235, 22.587, 64.322, 90.599]\n",
      "1 | 5 | 12.235 >    64.322   | False    |  12.235 |  [11.154, 34.561, 25.452, 12.235, 22.587, 64.322, 90.599]\n",
      "1 | 6 | 12.235 >    90.599   | False    |  12.235 |  [11.154, 34.561, 25.452, 12.235, 22.587, 64.322, 90.599]\n",
      "\n",
      "i | j | Number > Compared to | Boolean | min_idx | Interchange the Numbers\n",
      "2 | 3 | 25.452 >    34.561   | False    |  25.452 |  [11.154, 12.235, 25.452, 34.561, 22.587, 64.322, 90.599]\n",
      "2 | 4 | 25.452 >    22.587   | True    |  25.452 |  [11.154, 12.235, 25.452, 34.561, 22.587, 64.322, 90.599]\n",
      "2 | 5 | 22.587 >    64.322   | False    |  22.587 |  [11.154, 12.235, 25.452, 34.561, 22.587, 64.322, 90.599]\n",
      "2 | 6 | 22.587 >    90.599   | False    |  22.587 |  [11.154, 12.235, 25.452, 34.561, 22.587, 64.322, 90.599]\n",
      "\n",
      "i | j | Number > Compared to | Boolean | min_idx | Interchange the Numbers\n",
      "3 | 4 | 34.561 >    25.452   | True    |  34.561 |  [11.154, 12.235, 22.587, 34.561, 25.452, 64.322, 90.599]\n",
      "3 | 5 | 25.452 >    64.322   | False    |  25.452 |  [11.154, 12.235, 22.587, 34.561, 25.452, 64.322, 90.599]\n",
      "3 | 6 | 25.452 >    90.599   | False    |  25.452 |  [11.154, 12.235, 22.587, 34.561, 25.452, 64.322, 90.599]\n",
      "\n",
      "i | j | Number > Compared to | Boolean | min_idx | Interchange the Numbers\n",
      "4 | 5 | 34.561 >    64.322   | False    |  34.561 |  [11.154, 12.235, 22.587, 25.452, 34.561, 64.322, 90.599]\n",
      "4 | 6 | 34.561 >    90.599   | False    |  34.561 |  [11.154, 12.235, 22.587, 25.452, 34.561, 64.322, 90.599]\n",
      "\n",
      "i | j | Number > Compared to | Boolean | min_idx | Interchange the Numbers\n",
      "5 | 6 | 64.322 >    90.599   | False    |  64.322 |  [11.154, 12.235, 22.587, 25.452, 34.561, 64.322, 90.599]\n",
      "\n",
      "i | j | Number > Compared to | Boolean | min_idx | Interchange the Numbers\n",
      "\n",
      "\n",
      "Using Selection Sort Algorithm\n",
      "\n",
      "Sorted array is    : [11.154, 12.235, 22.587, 25.452, 34.561, 64.322, 90.599]\n"
     ]
    }
   ],
   "source": [
    "def selection_sort(percentages):\n",
    "    print(\"\\n'i' is the iterator using which we are setting the Minimum Index\\n\")\n",
    "    print(\"\\n'j' is the variable that loops through all the numbers in the array \\n\")\n",
    "    for i in range(len(percentages)):\n",
    "        min_idx = i\n",
    "        print(\"\")\n",
    "        print(\"i | j | Number > Compared to | Boolean | min_idx | Interchange the Numbers\")\n",
    "        for j in range(i+1, len(percentages)):\n",
    "            print(i, \"|\", j, \"|\", percentages[min_idx], \">   \", percentages[j], \"  |\", (percentages[min_idx]>percentages[j]), \"   | \", percentages[min_idx], \"| \", percentages)\n",
    "            if percentages[min_idx] > percentages[j]:\n",
    "                min_idx = j\n",
    "        percentages[i], percentages[min_idx] = percentages[min_idx], percentages[i]\n",
    "\n",
    "\n",
    "if __name__ == \"__main__\":\n",
    "\n",
    "    percentages = [64.322, 34.561, 25.452, 12.235, 22.587, 11.154, 90.599]\n",
    "    print(\"FE Percentages are :\", percentages)\n",
    "\n",
    "    print(\" \")\n",
    "    selection_sort(percentages)\n",
    "    print(\"\\n\\nUsing Selection Sort Algorithm\\n\")\n",
    "    print(\"Sorted array is    :\", percentages)"
   ]
  },
  {
   "cell_type": "markdown",
   "id": "75c880d6",
   "metadata": {},
   "source": [
    "***"
   ]
  },
  {
   "cell_type": "markdown",
   "id": "13ce9704",
   "metadata": {},
   "source": [
    "<div>\n",
    "\n",
    "## <center align> Selection Sort with Simple Output\n",
    "\n",
    "</div>"
   ]
  },
  {
   "cell_type": "code",
   "execution_count": 78,
   "id": "230c743b",
   "metadata": {},
   "outputs": [
    {
     "name": "stdout",
     "output_type": "stream",
     "text": [
      "FE Percentages are : [64.322, 34.56, 25.452, 12.235948, 22.587, 11.154, 90.599]\n",
      " \n",
      "\n",
      "Using Selection Sort Algorithm\n",
      "\n",
      "Sorted array is    : [11.154, 12.235948, 22.587, 25.452, 34.56, 64.322, 90.599]\n"
     ]
    }
   ],
   "source": [
    "def selection_sort(percentages):\n",
    "    for i in range(len(percentages)):\n",
    "        min_idx = i\n",
    "        for j in range(i+1, len(percentages)):\n",
    "            # print(percentages[min_idx], \">\", percentages[j])\n",
    "            if percentages[min_idx] > percentages[j]:\n",
    "                min_idx = j\n",
    "                # print(\"Min_idx : \", min_idx)\n",
    "        percentages[i], percentages[min_idx] = percentages[min_idx], percentages[i]\n",
    "        #return percentages[i], percentages[min_idx]\n",
    "\n",
    "\n",
    "if __name__ == \"__main__\":\n",
    "\n",
    "    percentages = [64.322, 34.56, 25.452, 12.235948, 22.587, 11.154, 90.599]\n",
    "    print(\"FE Percentages are :\", percentages)\n",
    "\n",
    "    print(\" \")\n",
    "    selection_sort(percentages)\n",
    "    print(\"\\nUsing Selection Sort Algorithm\\n\")\n",
    "    print(\"Sorted array is    :\", percentages)"
   ]
  },
  {
   "cell_type": "markdown",
   "id": "48ab6db2",
   "metadata": {},
   "source": [
    "***"
   ]
  },
  {
   "cell_type": "markdown",
   "id": "8a8b2431",
   "metadata": {},
   "source": [
    "<div class=\"alert alert-success\">\n",
    "\n",
    "## <center align> Top 5 Scores:\n",
    "\n",
    "</div>"
   ]
  },
  {
   "cell_type": "code",
   "execution_count": 82,
   "id": "a036b10f",
   "metadata": {},
   "outputs": [
    {
     "name": "stdout",
     "output_type": "stream",
     "text": [
      "Rank | Top Five Scores is : \n",
      " 1 . |       90.599 %\n",
      " 2 . |       64.322 %\n",
      " 3 . |       34.56 %\n",
      " 4 . |       25.452 %\n",
      " 5 . |       22.587 %\n"
     ]
    }
   ],
   "source": [
    "print(\"Rank\", \"|\", \"Top Five Scores is : \")\n",
    "rank = percentages[::-1]\n",
    "for n in range(len(percentages[:5])):\n",
    "    print(\"\", n+1, \". |      \",  rank[n],\"%\")"
   ]
  },
  {
   "cell_type": "markdown",
   "id": "dcad807a",
   "metadata": {},
   "source": [
    "***"
   ]
  },
  {
   "cell_type": "markdown",
   "id": "64070538",
   "metadata": {},
   "source": [
    "<div class=\"alert alert-success\">\n",
    "\n",
    "## <center align> Whole Program\n",
    "    \n",
    "</div>    "
   ]
  },
  {
   "cell_type": "code",
   "execution_count": 116,
   "id": "97403dfa",
   "metadata": {},
   "outputs": [
    {
     "name": "stdout",
     "output_type": "stream",
     "text": [
      "Bubble Sort & Selection Sort \n",
      " \n",
      "FE Percentages are : [64.322, 34.56, 25.452, 12.235948, 22.587, 11.154, 90.599]\n",
      " \n",
      "Using Selection Sort Algorithm\n",
      "Sorted array is    : [11.154, 12.235948, 22.587, 25.452, 34.56, 64.322, 90.599]\n",
      " \n",
      "Using Bubble Sort Algorithm\n",
      "Sorted array is    : [11.154, 12.235948, 22.587, 25.452, 34.56, 64.322, 90.599]\n",
      " \n",
      "Rank | Top Five Scores is : \n",
      " 1 . |       90.599 %\n",
      " 2 . |       64.322 %\n",
      " 3 . |       34.56 %\n",
      " 4 . |       25.452 %\n",
      " 5 . |       22.587 %\n"
     ]
    }
   ],
   "source": [
    "print(\"Bubble Sort & Selection Sort \")\n",
    "print(\" \")\n",
    "\n",
    "\n",
    "def bubbleSort(percentages):\n",
    "    n = len(percentages)\n",
    "    for i in range(n - 1):\n",
    "        for j in range(0, n - i - 1):\n",
    "            if percentages[j] > percentages[j + 1]:\n",
    "                percentages[j], percentages[j + 1] = percentages[j + 1], percentages[j]\n",
    "\n",
    "\n",
    "def selection_sort(percentages):\n",
    "    for i in range(len(percentages)):\n",
    "        min_idx = i\n",
    "        for j in range(i+1, len(percentages)):\n",
    "            if percentages[min_idx] > percentages[j]:\n",
    "                min_idx = j\n",
    "        percentages[i], percentages[min_idx] = percentages[min_idx], percentages[i]\n",
    "\n",
    "\n",
    "if __name__ == \"__main__\":\n",
    "\n",
    "    percentages = [64.322, 34.56, 25.452, 12.235948, 22.587, 11.154, 90.599]\n",
    "    print(\"FE Percentages are :\", percentages)\n",
    "\n",
    "    print(\" \")\n",
    "    selection_sort(percentages)\n",
    "    print(\"Using Selection Sort Algorithm\")\n",
    "    print(\"Sorted array is    :\", percentages)\n",
    "\n",
    "    print(\" \")\n",
    "    bubbleSort(percentages)\n",
    "    print(\"Using Bubble Sort Algorithm\")\n",
    "    print(\"Sorted array is    :\", percentages)\n",
    "    print(\" \")\n",
    "    print(\"Rank\", \"|\", \"Top Five Scores is : \")\n",
    "    rank = percentages[::-1]\n",
    "    for n in range(len(percentages[:5])):\n",
    "        print(\"\", n+1, \". |      \",  rank[n],\"%\")\n"
   ]
  },
  {
   "cell_type": "markdown",
   "id": "6d6e1572",
   "metadata": {},
   "source": [
    "***"
   ]
  },
  {
   "cell_type": "markdown",
   "id": "2e31e8fa",
   "metadata": {},
   "source": [
    "<div class=\"alert alert-warning\">\n",
    "\n",
    "\n",
    "# <center align> Thank - You\n",
    "\n",
    "</div>"
   ]
  }
 ],
 "metadata": {
  "kernelspec": {
   "display_name": "Python 3 (ipykernel)",
   "language": "python",
   "name": "python3"
  },
  "language_info": {
   "codemirror_mode": {
    "name": "ipython",
    "version": 3
   },
   "file_extension": ".py",
   "mimetype": "text/x-python",
   "name": "python",
   "nbconvert_exporter": "python",
   "pygments_lexer": "ipython3",
   "version": "3.8.10"
  }
 },
 "nbformat": 4,
 "nbformat_minor": 5
}
